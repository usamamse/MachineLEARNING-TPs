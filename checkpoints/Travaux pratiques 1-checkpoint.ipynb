{
 "cells": [
  {
   "cell_type": "markdown",
   "id": "72288173-e25f-4379-bacb-ce2f12f24ae1",
   "metadata": {},
   "source": [
    "#                      **Série de Travaux Pratiques N° 1**\n",
    "# Réalisé par : ELMESSAOUDI Oussama"
   ]
  },
  {
   "cell_type": "markdown",
   "id": "54214927-280b-4930-b435-385b3079dd39",
   "metadata": {},
   "source": [
    "# **Exercice 1:**\r",
    " "
   ]
  },
  {
   "cell_type": "markdown",
   "id": "e6888127-3a6a-4bb2-bcc9-d108ba2f0ed6",
   "metadata": {},
   "source": [
    "Ecrire un programme python permettant de saisir trois notes (sur 20) d'un étudiant, calculant sa\n",
    "moyenne et affichant cette moyenne avec la mention (\"Très bien\" à partir de 16, \"Bien\" entre 14 et\n",
    "16, \"Assez bien\" entre 12 et 14, \"Passable\" entre 10 et 12, \"Insuffisant\" en dessous de 10).\n",
    "PS: En suppose que l'étudiant va saisir des notes comprises entre 0 et 20."
   ]
  },
  {
   "cell_type": "code",
   "execution_count": null,
   "id": "d5f72f1a-7ee4-416c-95dc-438ba1d58b01",
   "metadata": {},
   "outputs": [],
   "source": [
    "def mention(notes):\n",
    "    somme = 0\n",
    "    \n",
    "    for note in notes:\n",
    "        somme = note+somme\n",
    "    \n",
    "    nf = somme/3\n",
    "    if nf >=10 and nf <12:\n",
    "        return \"Passable\"\n",
    "    elif nf >=12 and nf <14:\n",
    "        return \"Assez Bien\"\n",
    "    elif nf >=14 and nf <16:\n",
    "        return \"Bien\"\n",
    "    elif nf >16:\n",
    "        return \"Tres Bien\"\n",
    "    else:\n",
    "        return \"Insuffisant\"\n",
    "        \n",
    "note1 =float(input(\"Veuillez entrer la note 1 :\"))\n",
    "note2 =float(input(\"Veuillez entrer la note 2 :\"))\n",
    "note3 =float(input(\"Veuillez entrer la note 3 :\"))\n",
    "    \n",
    "notes = [note1,note2,note3]\n",
    "    \n",
    "print(mention(notes))"
   ]
  },
  {
   "cell_type": "markdown",
   "id": "32be0b2e-5299-416e-8567-948e0cec3cb1",
   "metadata": {},
   "source": [
    "# **Exercice 2:**\n",
    "\n"
   ]
  },
  {
   "cell_type": "markdown",
   "id": "78cc6764-6f25-449e-b593-ea71348c20d8",
   "metadata": {},
   "source": [
    "Ecrire un programme python qui affiche la ou les solutions d’une équation du second degré de la\n",
    "forme : ax2\n",
    "+ bx + c=0."
   ]
  },
  {
   "cell_type": "code",
   "execution_count": null,
   "id": "ae868d28-856a-4f02-9101-8267c9a15e14",
   "metadata": {},
   "outputs": [],
   "source": [
    "import math\n",
    "\n",
    "def equation2deg(a,b,c):\n",
    "    delta = b**2-4*a*c\n",
    "    if delta > 0:\n",
    "        return \"l'equation admet deux racine dans R : x1= \"+ str((-b-math.sqrt(delta)/(2*a))) +\" x2= \" + str((-b+math.sqrt(delta)/(2*a)))  \n",
    "    elif delta == 0:\n",
    "        return \"l'equation admet une seule racine dans R : x= \" + -b/(2*a)\n",
    "    else :\n",
    "        return \"l'equation n'admet pas une solution dans R\"\n",
    "\n",
    "print(equation2deg(3,-1,-10))"
   ]
  },
  {
   "cell_type": "markdown",
   "id": "b707e795-e241-4388-bc16-74ed66b1e29d",
   "metadata": {},
   "source": [
    "# **Exercice 3:**\n"
   ]
  },
  {
   "cell_type": "markdown",
   "id": "948b62cd-eaa9-4230-a002-c60f901dc758",
   "metadata": {},
   "source": [
    "Ecrire un programme python qui demande un temps T (entier) exprimé en secondes, et qui le\n",
    "convertit en heures, minutes, secondes.\n",
    "**Exemple :** T = 56263 seconds =15 heures 37 minutes 43 seconds."
   ]
  },
  {
   "cell_type": "code",
   "execution_count": null,
   "id": "03d9e09b-eea2-47e6-a2a3-c8d6228c8527",
   "metadata": {},
   "outputs": [],
   "source": [
    "import math \n",
    "\n",
    "def conversionTemps(secondes):\n",
    "    heures = math.floor(secondes/3600)\n",
    "    minutes = heures %60\n",
    "    secondes = secondes %60\n",
    "    return str(heures)+\" heures \"+str(minutes)+\" minutes \"+str(secondes)+\" secondes\"\n",
    "print(conversionTemps(56263))"
   ]
  },
  {
   "cell_type": "markdown",
   "id": "4a946ec0-5b63-4842-a83e-e034564ebd63",
   "metadata": {},
   "source": [
    "# **Exercice 4 :**\n"
   ]
  },
  {
   "cell_type": "markdown",
   "id": "81f0a82f-8c96-4baa-9eb5-2096dd50b1f5",
   "metadata": {},
   "source": [
    "Ecrire un programme python qui résout le problème suivant :\n",
    "Les habitants d’une ville paient l’impôt selon les règles suivantes :\n",
    "- Les hommes de plus de 20 ans paient l’impôt\n",
    "- Les femmes paient l’impôt si elles ont entre 18 et 35 ans\n",
    "- Les autres ne paient pas d’impôt\n",
    "Ecrire un programme python qui demande l’âge et le sexe d’un habitant et affiche si celui-ci est\n",
    "impossible."
   ]
  },
  {
   "cell_type": "code",
   "execution_count": null,
   "id": "5e73d840-8dd2-4989-9608-2043b0e4f829",
   "metadata": {},
   "outputs": [],
   "source": [
    "sexe = str(input(\"Veuillez entrez le sexe :\"));\n",
    "age = int(input(\"Veuillez entrez l'age :\"));\n",
    "\n",
    "if sexe == \"homme\" and age > 20:\n",
    "    print(\"Pay l'impot \")\n",
    "elif sexe == \"femme\" and age >= 18 and age <= 35:\n",
    "    print(\"Pay l'impot \")\n",
    "else:\n",
    "    print(\"Pas d'impot\")"
   ]
  },
  {
   "cell_type": "markdown",
   "id": "fca39081-2691-474a-be3c-edfd611bb106",
   "metadata": {},
   "source": [
    "# **Exercice 5:**\n"
   ]
  },
  {
   "cell_type": "markdown",
   "id": "40b897e4-54a1-46f8-9070-7400efd90c43",
   "metadata": {},
   "source": [
    "Ecrire un programme python qui demande deux nombres entiers et l’une des opérateurs suivant : + ,\n",
    "- , * , / puis effectue l’opération correspond et affiche le résultat de cette opération."
   ]
  },
  {
   "cell_type": "code",
   "execution_count": null,
   "id": "f65def13-400a-467c-97b4-b92423663095",
   "metadata": {},
   "outputs": [],
   "source": [
    "import os\n",
    "\n",
    "nb1 = int(input(\"Veuillez entrez le 1ere nombre : \"))\n",
    "nb2 = int(input(\"Veuillez entrez la 2eme nombre : \"))\n",
    "\n",
    "os.system(\"cls\")\n",
    "\n",
    "print(\"*********** Menu ************\")\n",
    "print(\"        Addition\")\n",
    "print(\"        Soustraction\")\n",
    "print(\"        Multiplication\")\n",
    "print(\"        Division\")\n",
    "print(\"*****************************\")\n",
    "\n",
    "choix = str(input(\"Veuillez choissez une operation : \"))\n",
    "\n",
    "os.system(\"cls\")\n",
    "if choix == \"+\":\n",
    "    print(str(nb1)+choix+str(nb2)+\" = \"+str(nb1+nb2))\n",
    "elif choix == \"/\":\n",
    "    print(str(nb1)+choix+str(nb2)+\" = \"+str(nb1/nb2))\n",
    "elif choix == \"-\":\n",
    "    print(str(nb1)+choix+str(nb2)+\" = \"+str(nb1-nb2))\n",
    "elif choix == \"x\":\n",
    "    print(str(nb1)+choix+str(nb2)+\" = \"+str(nb1*nb2))"
   ]
  },
  {
   "cell_type": "markdown",
   "id": "d8265912-8369-47db-a981-9c6955a55032",
   "metadata": {},
   "source": [
    "# **Exercice 6:**\n"
   ]
  },
  {
   "cell_type": "markdown",
   "id": "3012a361-58bc-4044-a64c-70e52af7dd16",
   "metadata": {},
   "source": [
    "1. Ecrire un programme python qui demande un nombre de départ, et qui ensuite affiche les dix\n",
    "nombres suivants en utilisant la boucle Pour.\n",
    "Par exemple, si l'utilisateur entre le nombre 33, le programme affichera les nombres de 34 à 43.\n",
    "2. En utilisant la boucle Tant que."
   ]
  },
  {
   "cell_type": "code",
   "execution_count": null,
   "id": "90967341-c610-445a-ac52-19bb3cb08ee3",
   "metadata": {},
   "outputs": [],
   "source": [
    "def exercice6(nombre):\n",
    "    x = 1\n",
    "    while x <= 10 :\n",
    "        print(nombre+x)\n",
    "        x += 1\n",
    "\n",
    "exercice6(33) "
   ]
  },
  {
   "cell_type": "code",
   "execution_count": null,
   "id": "d93f5339-9110-48b2-928c-efd84d09a41c",
   "metadata": {},
   "outputs": [],
   "source": [
    "def exercice6(nombre):\n",
    "    for i in range(10):\n",
    "        print(nombre+i+1)\n",
    "\n",
    "exercice6(33)"
   ]
  },
  {
   "cell_type": "markdown",
   "id": "22152995-023b-4c6a-b558-898b49aa0d60",
   "metadata": {},
   "source": [
    "# **Exercice 7:**\n"
   ]
  },
  {
   "cell_type": "markdown",
   "id": "80e23461-49b4-427a-bdc3-1072ed32a45f",
   "metadata": {},
   "source": [
    "Ecrire un programme python qui lit un entier non nul n puis affiche le résultat de la somme des n\n",
    "premiers carrés.\n",
    "**Exemple :** si n = 3, le programme python doit afficher 14 (14 = 12+ 22+ 32)."
   ]
  },
  {
   "cell_type": "code",
   "execution_count": null,
   "id": "10efeba2-1bfe-434c-90eb-3a8b03aaa9f4",
   "metadata": {},
   "outputs": [],
   "source": [
    "def exo7(n):\n",
    "    somme =0\n",
    "    x=0\n",
    "    for i in range(n+1):\n",
    "        somme += i**2\n",
    "    return somme\n",
    "print(exo7(3))"
   ]
  },
  {
   "cell_type": "markdown",
   "id": "e096fcd0-327c-46bc-92d7-80324bf89a16",
   "metadata": {},
   "source": [
    "# **Exercice 8:**\n"
   ]
  },
  {
   "cell_type": "markdown",
   "id": "96b2a278-6b76-4241-84c6-76c7eb31e19d",
   "metadata": {},
   "source": [
    "Ecrire un programme python qui calcule et affiche la somme : S = 1+10+100+…+10^n"
   ]
  },
  {
   "cell_type": "code",
   "execution_count": null,
   "id": "91f0b026-bc4a-4f45-9158-ac0c52a6215e",
   "metadata": {},
   "outputs": [],
   "source": [
    "def exo8(n):\n",
    "    somme =0\n",
    "    x=0\n",
    "    while x<n:\n",
    "        somme += 10**x\n",
    "        x+=1\n",
    "    return somme\n",
    "\n",
    "print(exo8(5))"
   ]
  },
  {
   "cell_type": "markdown",
   "id": "03ed5959-5b60-43a1-8645-ee0e5a9abce6",
   "metadata": {},
   "source": [
    "# **Exercice 9:**\n"
   ]
  },
  {
   "cell_type": "markdown",
   "id": "36aadba8-d526-4dcc-a912-2fda06951dbd",
   "metadata": {},
   "source": [
    "Un nombre parfait est un entier positif supérieur à 1, égal à la somme de ses diviseurs ;\n",
    "On compte 1 comme diviseur, mais on ne compte pas le nombre lui-même comme diviseur.\n",
    "**Exemple :** 6 est un nombre parfait puisque : 6 = 3 + 2 + 1.\n",
    "Ecrire un programme python qui prend en entrée un nombre entier n et affiche si n est un entier parfait ou non.\n"
   ]
  },
  {
   "cell_type": "code",
   "execution_count": null,
   "id": "a65ffd25-4fea-4c9d-81ad-38a878013a6f",
   "metadata": {},
   "outputs": [],
   "source": [
    "def exo9(n):\n",
    "    x=1\n",
    "    somme = 0\n",
    "\n",
    "    while x < 6:\n",
    "        div = 6 % x\n",
    "        print(div)\n",
    "        if div == 0 :\n",
    "            somme += x\n",
    "        x+=1\n",
    "    print(somme)\n",
    "    if somme == n :\n",
    "        return str(n)+\" est un nombre parfait\"\n",
    "    else:\n",
    "        return str(n)+\" n'est pas un nombre parfait\"\n",
    "    \n",
    "print(exo9(6))"
   ]
  },
  {
   "cell_type": "markdown",
   "id": "6ccd5052-9ddb-4280-9d6d-bfa462607e2e",
   "metadata": {},
   "source": [
    "# **Exercice 10 :**\n"
   ]
  },
  {
   "cell_type": "markdown",
   "id": "ef9e01f1-fc89-4eed-9b89-78c9295a7044",
   "metadata": {},
   "source": [
    "1. Écrire un programme qui lit un tableau d’entiers naturels Tab de taille 10 et affiche si le\n",
    "tableau est trié dans un ordre croissant ou pas.\n",
    "2. Suggérer un programme python qui initialise deux vecteurs appartenant à R de taille\n",
    "maximale N et affiche leur produit scalaire.\n",
    "**Ex :** a = [2 5 3] et b = [7 1 0] alors le produit scalaire de a et b est a.b = 2*7 + 5*1 + 3*0"
   ]
  },
  {
   "cell_type": "code",
   "execution_count": null,
   "id": "ee660674-c291-4fdd-8099-73f5a8b64d7c",
   "metadata": {},
   "outputs": [],
   "source": [
    "def exercice10(tab):\n",
    "    cmp = 0\n",
    "    for i in range(9):\n",
    "        print(tab[i+1])\n",
    "        if tab[i] > tab[i+1]:\n",
    "            cmp +=1\n",
    "    if cmp == 0:\n",
    "        return \"Tableau est trie  dans un ordre croissant\"\n",
    "    else:\n",
    "        return \"Tableau n'est pas trie dans un ordre croissant\"\n",
    "    \n",
    "tabl = [1,2,3,4,5,6,7,8,9,10]\n",
    "\n",
    "print(exercice10(tabl))\n"
   ]
  },
  {
   "cell_type": "code",
   "execution_count": null,
   "id": "2671ea8a-6366-4d54-b8b3-5849168cdf5b",
   "metadata": {},
   "outputs": [],
   "source": [
    "def exercice10p2(vec1,vec2):\n",
    "    somme=0\n",
    "    i=0\n",
    "    while i < len(vec1):\n",
    "        somme += vec1[i]*vec2[i]\n",
    "        i+=1\n",
    "    \n",
    "    return somme\n",
    "\n",
    "vec1=[2,5,3]\n",
    "vec2=[7,1,0]\n",
    "\n",
    "print(exercice10p2(vec1,vec2))"
   ]
  }
 ],
 "metadata": {
  "kernelspec": {
   "display_name": "Python 3 (ipykernel)",
   "language": "python",
   "name": "python3"
  },
  "language_info": {
   "codemirror_mode": {
    "name": "ipython",
    "version": 3
   },
   "file_extension": ".py",
   "mimetype": "text/x-python",
   "name": "python",
   "nbconvert_exporter": "python",
   "pygments_lexer": "ipython3",
   "version": "3.11.7"
  }
 },
 "nbformat": 4,
 "nbformat_minor": 5
}
