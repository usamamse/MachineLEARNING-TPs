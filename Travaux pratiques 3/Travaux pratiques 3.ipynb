{
 "cells": [
  {
   "cell_type": "markdown",
   "id": "fc422ac4-a1f9-46c9-b908-2d378701a304",
   "metadata": {},
   "source": [
    "# **Série de Travaux Pratiques N° 3**\n",
    "# Réalisé par : ELMESSAOUDI Oussama"
   ]
  },
  {
   "cell_type": "markdown",
   "id": "5dc78ba0-a28f-4bc4-be63-a6af253f3a09",
   "metadata": {},
   "source": [
    "**Partie I :\n",
    "Objectif de la partie I : Développer la Descente de Gradient sur un modèle de régression\n",
    "linéaire simple from scratch\n",
    "On va travailler sur un modèle linéaire simple. Du coup, on va utiliser la fonction f(x) = ax+b.**\n"
   ]
  },
  {
   "cell_type": "markdown",
   "id": "724b24eb-b261-4417-989a-12220390deaf",
   "metadata": {},
   "source": [
    "1- Quelle la fonction du coût utilisé afin de calculer les erreurs pour le cas de f(x) = ax+b ?\n"
   ]
  },
  {
   "cell_type": "markdown",
   "id": "cfa3b90a-c926-4ff7-b295-1075749559a0",
   "metadata": {},
   "source": [
    "La fonction nommée MSE (Mean Squared Error): **J(a,b) = 1/(2m)(Sommation de 1 jusqu'a m)(f(x)(i) - y(i))^2**"
   ]
  },
  {
   "cell_type": "markdown",
   "id": "a8d823a1-8615-4fd1-ab0b-87d27cb7f341",
   "metadata": {},
   "source": [
    "2- Définir une fonction nommée \"compute_error\" en python qui prend en argument a, b, X, Y et qui\n",
    "calcule J (a, b) la fonction du coût (ensemble des erreurs).\n"
   ]
  },
  {
   "cell_type": "code",
   "execution_count": 2,
   "id": "2bdefb30-fe20-4b6e-af97-971b1455892e",
   "metadata": {},
   "outputs": [],
   "source": [
    "def compute_error(a, b, X, Y):\n",
    "    sum_error = 0\n",
    "    for i in range(len(X)):\n",
    "        sum_error += (a* X[i] + b - Y[i])**2\n",
    "    return sum_error /(2 *m)"
   ]
  },
  {
   "cell_type": "markdown",
   "id": "af101ba4-f50f-4792-89cc-70fe11d72ba6",
   "metadata": {},
   "source": [
    "3- Définir une fonction nommée \"calcul_gradient\" en python, qui calcule les nouveaux a et b mises à\n",
    "jour en utilisant les dérivées partielles.\n"
   ]
  },
  {
   "cell_type": "code",
   "execution_count": 3,
   "id": "ca3ebbfb-7b2b-445b-9d27-9c5cf665bfac",
   "metadata": {},
   "outputs": [],
   "source": [
    "def calcuk_gradient(a, b, X, Y, taux_appr):\n",
    "    gradient_a = 0\n",
    "    gradient_b = 0\n",
    "    for i in range(m):\n",
    "        gradient_a += (a * X[i]+b-Y[i]) * X[i]\n",
    "        gradient_b += (a *X[i]+b-Y[i])\n",
    "\n",
    "    a -= (taux_appr*gradeient_a)/m\n",
    "    b -= (taux_appr*gradient_b)/m\n",
    "    return a,b"
   ]
  },
  {
   "cell_type": "markdown",
   "id": "9be8eacb-3092-4318-8ac1-83694aecab53",
   "metadata": {},
   "source": [
    "4- Définir une fonction nommée \"GD_runner\" en python, qui permet de calculer les nouveaux a et b\n",
    "pour n itérations. Pour chaque itération, veuillez afficher les éléments suivants :\n",
    " A- La valeur de la fonction du coût\n",
    " B- La valeur du coefficient a\n",
    " C- La valeur du coefficient b\n"
   ]
  },
  {
   "cell_type": "code",
   "execution_count": 5,
   "id": "61b5cd47-d276-4c34-9b5b-b34f0dc3d2fa",
   "metadata": {},
   "outputs": [],
   "source": [
    "def GD_runner(a, b, X, Y, taux_appr, num_iter):\n",
    "    for i in range(num_iter):\n",
    "        error = compute_error(a, b, X, Y)\n",
    "        print(\"Itetation {i+1}:\")\n",
    "        print(\"A- La valeur de la fonction du coût: {error}\")\n",
    "        print(\"B- La valeur du coefficient a: {a}\")\n",
    "        print(\"C- La valeur du coefficient b: {b}\")\n",
    "\n",
    "        a, b = calcul_gradient(a, b, X, Y, taux_appr)\n",
    "    return a, b"
   ]
  },
  {
   "cell_type": "markdown",
   "id": "328b8596-79a2-4016-b528-2f87478d0f70",
   "metadata": {},
   "source": [
    "5- Visualiser l'évolution de la fonction du coût J (a, b) au des n itérations.\n"
   ]
  },
  {
   "cell_type": "markdown",
   "id": "b26584c1-fd38-4f2c-8634-9bcaf86c7518",
   "metadata": {},
   "source": [
    "Il faut stocker les valeurs de la fonction de cout a chaque iteration et tracer ces valeurs"
   ]
  },
  {
   "cell_type": "markdown",
   "id": "20e1a88e-9792-4512-846f-66d461fc0e3d",
   "metadata": {},
   "source": [
    "6- Testez votre algorithme avec d’autres valeurs du \"learning rate\" et du \"nombre d'itérations\"."
   ]
  },
  {
   "cell_type": "markdown",
   "id": "4274ae70-644d-4240-a2ff-b396a6a0d331",
   "metadata": {},
   "source": [
    "Pour repondre a ce qustion il suffit appeler à la fonction DG_runner avec differents valeurs"
   ]
  },
  {
   "cell_type": "markdown",
   "id": "8c733fea-0f74-4505-891f-d0d3c3556fa0",
   "metadata": {},
   "source": [
    "**Partie II :\n",
    "Objectif de la partie II : Développer votre premier programme de Machine Learning.**\n"
   ]
  },
  {
   "cell_type": "markdown",
   "id": "960038c6-287b-46b9-a632-b932b21caf5e",
   "metadata": {},
   "source": [
    "1- Importer les librairies : numpy, matplotlib, sklearn.\n"
   ]
  },
  {
   "cell_type": "code",
   "execution_count": 19,
   "id": "761f465a-af6b-454d-ba30-d1360d3c2fbd",
   "metadata": {},
   "outputs": [],
   "source": [
    "import numpy as np\n",
    "import matplotlib.pyplot as plt\n",
    "from sklearn.datasets import make_regression\n",
    "from sklearn.linear_model import SGDRegressor"
   ]
  },
  {
   "cell_type": "markdown",
   "id": "b9ef79fc-9e2d-43b0-8df7-387fa0ea5306",
   "metadata": {},
   "source": [
    "2- Créer votre dataset en important la fonction datasets.make_regression et utilisez la pour générer un\n",
    "problème de régression aléatoire de 100 exemples avec une seule variable.\n"
   ]
  },
  {
   "cell_type": "code",
   "execution_count": 11,
   "id": "a6b1328d-0122-4d92-b4b9-25cc9dec55b0",
   "metadata": {},
   "outputs": [
    {
     "data": {
      "text/plain": [
       "(100, 1)"
      ]
     },
     "execution_count": 11,
     "metadata": {},
     "output_type": "execute_result"
    }
   ],
   "source": [
    "X, y = make_regression(n_samples=100,n_features=1)\n",
    "X.shape "
   ]
  },
  {
   "cell_type": "markdown",
   "id": "1203a275-3922-4e9b-a71b-4844fdc327a5",
   "metadata": {},
   "source": [
    "3- Visualiser vos données en utilisant la fonction plt.scatter(x, y).\n"
   ]
  },
  {
   "cell_type": "code",
   "execution_count": 14,
   "id": "b46a9e84-e977-4e6f-8d43-4e84a7e1c7aa",
   "metadata": {},
   "outputs": [
    {
     "data": {
      "image/png": "[encoded data removed]",
      "text/plain": [
       "<Figure size 640x480 with 1 Axes>"
      ]
     },
     "metadata": {},
     "output_type": "display_data"
    }
   ],
   "source": [
    "plt.scatter(X, y, color=\"green\")\n",
    "plt.show()"
   ]
  },
  {
   "cell_type": "markdown",
   "id": "9eff7634-5d9e-4ca5-981a-d0c95f77cc15",
   "metadata": {},
   "source": [
    "4- Définir votre modèle avec SGDRegressor() sur 100 itérations avec un Learning rate de 0.0001.\n"
   ]
  },
  {
   "cell_type": "code",
   "execution_count": 20,
   "id": "97a31c1d-4c24-446d-93b2-71a7a0b658e9",
   "metadata": {},
   "outputs": [],
   "source": [
    "model = SGDRegressor(max_iter=100, eta0=0.0001)"
   ]
  },
  {
   "cell_type": "markdown",
   "id": "0de60eff-2c5c-44d8-b2e4-90c7b2f7f36d",
   "metadata": {},
   "source": [
    "5- Entraîner votre modèle en utilisant la méthode fit().\n"
   ]
  },
  {
   "cell_type": "code",
   "execution_count": 21,
   "id": "fae3a205-ffc7-4105-b952-61f40e3f5222",
   "metadata": {},
   "outputs": [
    {
     "name": "stderr",
     "output_type": "stream",
     "text": [
      "C:\\Users\\US4Moooow\\anaconda3\\Lib\\site-packages\\sklearn\\linear_model\\_stochastic_gradient.py:1548: ConvergenceWarning: Maximum number of iteration reached before convergence. Consider increasing max_iter to improve the fit.\n",
      "  warnings.warn(\n"
     ]
    },
    {
     "data": {
      "text/html": [
       "<style>#sk-container-id-1 {color: black;background-color: white;}#sk-container-id-1 pre{padding: 0;}#sk-container-id-1 div.sk-toggleable {background-color: white;}#sk-container-id-1 label.sk-toggleable__label {cursor: pointer;display: block;width: 100%;margin-bottom: 0;padding: 0.3em;box-sizing: border-box;text-align: center;}#sk-container-id-1 label.sk-toggleable__label-arrow:before {content: \"▸\";float: left;margin-right: 0.25em;color: #696969;}#sk-container-id-1 label.sk-toggleable__label-arrow:hover:before {color: black;}#sk-container-id-1 div.sk-estimator:hover label.sk-toggleable__label-arrow:before {color: black;}#sk-container-id-1 div.sk-toggleable__content {max-height: 0;max-width: 0;overflow: hidden;text-align: left;background-color: #f0f8ff;}#sk-container-id-1 div.sk-toggleable__content pre {margin: 0.2em;color: black;border-radius: 0.25em;background-color: #f0f8ff;}#sk-container-id-1 input.sk-toggleable__control:checked~div.sk-toggleable__content {max-height: 200px;max-width: 100%;overflow: auto;}#sk-container-id-1 input.sk-toggleable__control:checked~label.sk-toggleable__label-arrow:before {content: \"▾\";}#sk-container-id-1 div.sk-estimator input.sk-toggleable__control:checked~label.sk-toggleable__label {background-color: #d4ebff;}#sk-container-id-1 div.sk-label input.sk-toggleable__control:checked~label.sk-toggleable__label {background-color: #d4ebff;}#sk-container-id-1 input.sk-hidden--visually {border: 0;clip: rect(1px 1px 1px 1px);clip: rect(1px, 1px, 1px, 1px);height: 1px;margin: -1px;overflow: hidden;padding: 0;position: absolute;width: 1px;}#sk-container-id-1 div.sk-estimator {font-family: monospace;background-color: #f0f8ff;border: 1px dotted black;border-radius: 0.25em;box-sizing: border-box;margin-bottom: 0.5em;}#sk-container-id-1 div.sk-estimator:hover {background-color: #d4ebff;}#sk-container-id-1 div.sk-parallel-item::after {content: \"\";width: 100%;border-bottom: 1px solid gray;flex-grow: 1;}#sk-container-id-1 div.sk-label:hover label.sk-toggleable__label {background-color: #d4ebff;}#sk-container-id-1 div.sk-serial::before {content: \"\";position: absolute;border-left: 1px solid gray;box-sizing: border-box;top: 0;bottom: 0;left: 50%;z-index: 0;}#sk-container-id-1 div.sk-serial {display: flex;flex-direction: column;align-items: center;background-color: white;padding-right: 0.2em;padding-left: 0.2em;position: relative;}#sk-container-id-1 div.sk-item {position: relative;z-index: 1;}#sk-container-id-1 div.sk-parallel {display: flex;align-items: stretch;justify-content: center;background-color: white;position: relative;}#sk-container-id-1 div.sk-item::before, #sk-container-id-1 div.sk-parallel-item::before {content: \"\";position: absolute;border-left: 1px solid gray;box-sizing: border-box;top: 0;bottom: 0;left: 50%;z-index: -1;}#sk-container-id-1 div.sk-parallel-item {display: flex;flex-direction: column;z-index: 1;position: relative;background-color: white;}#sk-container-id-1 div.sk-parallel-item:first-child::after {align-self: flex-end;width: 50%;}#sk-container-id-1 div.sk-parallel-item:last-child::after {align-self: flex-start;width: 50%;}#sk-container-id-1 div.sk-parallel-item:only-child::after {width: 0;}#sk-container-id-1 div.sk-dashed-wrapped {border: 1px dashed gray;margin: 0 0.4em 0.5em 0.4em;box-sizing: border-box;padding-bottom: 0.4em;background-color: white;}#sk-container-id-1 div.sk-label label {font-family: monospace;font-weight: bold;display: inline-block;line-height: 1.2em;}#sk-container-id-1 div.sk-label-container {text-align: center;}#sk-container-id-1 div.sk-container {/* jupyter's `normalize.less` sets `[hidden] { display: none; }` but bootstrap.min.css set `[hidden] { display: none !important; }` so we also need the `!important` here to be able to override the default hidden behavior on the sphinx rendered scikit-learn.org. See: https://github.com/scikit-learn/scikit-learn/issues/21755 */display: inline-block !important;position: relative;}#sk-container-id-1 div.sk-text-repr-fallback {display: none;}</style><div id=\"sk-container-id-1\" class=\"sk-top-container\"><div class=\"sk-text-repr-fallback\"><pre>SGDRegressor(eta0=0.0001, max_iter=100)</pre><b>In a Jupyter environment, please rerun this cell to show the HTML representation or trust the notebook. <br />On GitHub, the HTML representation is unable to render, please try loading this page with nbviewer.org.</b></div><div class=\"sk-container\" hidden><div class=\"sk-item\"><div class=\"sk-estimator sk-toggleable\"><input class=\"sk-toggleable__control sk-hidden--visually\" id=\"sk-estimator-id-1\" type=\"checkbox\" checked><label for=\"sk-estimator-id-1\" class=\"sk-toggleable__label sk-toggleable__label-arrow\">SGDRegressor</label><div class=\"sk-toggleable__content\"><pre>SGDRegressor(eta0=0.0001, max_iter=100)</pre></div></div></div></div></div>"
      ],
      "text/plain": [
       "SGDRegressor(eta0=0.0001, max_iter=100)"
      ]
     },
     "execution_count": 21,
     "metadata": {},
     "output_type": "execute_result"
    }
   ],
   "source": [
    "model.fit(X, y)"
   ]
  },
  {
   "cell_type": "markdown",
   "id": "fc8586c1-9b86-4d33-b110-f1bd350a2013",
   "metadata": {},
   "source": [
    "6- Calculer la précision de votre modèle en utilisant la fonction score qui calcule le coefficient de\n",
    "d´etermination entre le modèle et les valeurs y de votre Dataset.\n"
   ]
  },
  {
   "cell_type": "code",
   "execution_count": 26,
   "id": "42839c84-f68b-4268-a9af-14940d1906a7",
   "metadata": {},
   "outputs": [
    {
     "name": "stdout",
     "output_type": "stream",
     "text": [
      "Coeff R2 = 0.13700522293094797\n"
     ]
    }
   ],
   "source": [
    "print(\"Coeff R2 =\",model.score(X, y))\n"
   ]
  },
  {
   "cell_type": "markdown",
   "id": "c58911a7-7510-4b67-a9d3-9888cadb46b2",
   "metadata": {},
   "source": [
    "7- Faire de nouvelles prédictions avec la fonction predict() et tracer les résultats avec la fonction\n",
    "plt.plot().\n"
   ]
  },
  {
   "cell_type": "code",
   "execution_count": 27,
   "id": "c6d8525e-476c-41e9-a6ff-5997b41a797f",
   "metadata": {},
   "outputs": [
    {
     "data": {
      "text/plain": [
       "[<matplotlib.lines.Line2D at 0x1f68807b650>]"
      ]
     },
     "execution_count": 27,
     "metadata": {},
     "output_type": "execute_result"
    },
    {
     "data": {
      "image/png": "[encoded data removed]",
      "text/plain": [
       "<Figure size 640x480 with 1 Axes>"
      ]
     },
     "metadata": {},
     "output_type": "display_data"
    }
   ],
   "source": [
    "plt.scatter(X, y)\n",
    "plt.plot(X,model.predict(X), c='red')"
   ]
  },
  {
   "cell_type": "markdown",
   "id": "46ed5afd-9fb0-4255-a274-237445b6690c",
   "metadata": {},
   "source": [
    "8- Refaire le même travail en entraînant votre modèle sur 1000 itérations avec un Learning rate de\n",
    "0.001.\n"
   ]
  },
  {
   "cell_type": "code",
   "execution_count": 30,
   "id": "b3e58c8d-96b2-42d4-a5ee-2baf528eb0be",
   "metadata": {},
   "outputs": [
    {
     "data": {
      "text/html": [
       "<style>#sk-container-id-3 {color: black;background-color: white;}#sk-container-id-3 pre{padding: 0;}#sk-container-id-3 div.sk-toggleable {background-color: white;}#sk-container-id-3 label.sk-toggleable__label {cursor: pointer;display: block;width: 100%;margin-bottom: 0;padding: 0.3em;box-sizing: border-box;text-align: center;}#sk-container-id-3 label.sk-toggleable__label-arrow:before {content: \"▸\";float: left;margin-right: 0.25em;color: #696969;}#sk-container-id-3 label.sk-toggleable__label-arrow:hover:before {color: black;}#sk-container-id-3 div.sk-estimator:hover label.sk-toggleable__label-arrow:before {color: black;}#sk-container-id-3 div.sk-toggleable__content {max-height: 0;max-width: 0;overflow: hidden;text-align: left;background-color: #f0f8ff;}#sk-container-id-3 div.sk-toggleable__content pre {margin: 0.2em;color: black;border-radius: 0.25em;background-color: #f0f8ff;}#sk-container-id-3 input.sk-toggleable__control:checked~div.sk-toggleable__content {max-height: 200px;max-width: 100%;overflow: auto;}#sk-container-id-3 input.sk-toggleable__control:checked~label.sk-toggleable__label-arrow:before {content: \"▾\";}#sk-container-id-3 div.sk-estimator input.sk-toggleable__control:checked~label.sk-toggleable__label {background-color: #d4ebff;}#sk-container-id-3 div.sk-label input.sk-toggleable__control:checked~label.sk-toggleable__label {background-color: #d4ebff;}#sk-container-id-3 input.sk-hidden--visually {border: 0;clip: rect(1px 1px 1px 1px);clip: rect(1px, 1px, 1px, 1px);height: 1px;margin: -1px;overflow: hidden;padding: 0;position: absolute;width: 1px;}#sk-container-id-3 div.sk-estimator {font-family: monospace;background-color: #f0f8ff;border: 1px dotted black;border-radius: 0.25em;box-sizing: border-box;margin-bottom: 0.5em;}#sk-container-id-3 div.sk-estimator:hover {background-color: #d4ebff;}#sk-container-id-3 div.sk-parallel-item::after {content: \"\";width: 100%;border-bottom: 1px solid gray;flex-grow: 1;}#sk-container-id-3 div.sk-label:hover label.sk-toggleable__label {background-color: #d4ebff;}#sk-container-id-3 div.sk-serial::before {content: \"\";position: absolute;border-left: 1px solid gray;box-sizing: border-box;top: 0;bottom: 0;left: 50%;z-index: 0;}#sk-container-id-3 div.sk-serial {display: flex;flex-direction: column;align-items: center;background-color: white;padding-right: 0.2em;padding-left: 0.2em;position: relative;}#sk-container-id-3 div.sk-item {position: relative;z-index: 1;}#sk-container-id-3 div.sk-parallel {display: flex;align-items: stretch;justify-content: center;background-color: white;position: relative;}#sk-container-id-3 div.sk-item::before, #sk-container-id-3 div.sk-parallel-item::before {content: \"\";position: absolute;border-left: 1px solid gray;box-sizing: border-box;top: 0;bottom: 0;left: 50%;z-index: -1;}#sk-container-id-3 div.sk-parallel-item {display: flex;flex-direction: column;z-index: 1;position: relative;background-color: white;}#sk-container-id-3 div.sk-parallel-item:first-child::after {align-self: flex-end;width: 50%;}#sk-container-id-3 div.sk-parallel-item:last-child::after {align-self: flex-start;width: 50%;}#sk-container-id-3 div.sk-parallel-item:only-child::after {width: 0;}#sk-container-id-3 div.sk-dashed-wrapped {border: 1px dashed gray;margin: 0 0.4em 0.5em 0.4em;box-sizing: border-box;padding-bottom: 0.4em;background-color: white;}#sk-container-id-3 div.sk-label label {font-family: monospace;font-weight: bold;display: inline-block;line-height: 1.2em;}#sk-container-id-3 div.sk-label-container {text-align: center;}#sk-container-id-3 div.sk-container {/* jupyter's `normalize.less` sets `[hidden] { display: none; }` but bootstrap.min.css set `[hidden] { display: none !important; }` so we also need the `!important` here to be able to override the default hidden behavior on the sphinx rendered scikit-learn.org. See: https://github.com/scikit-learn/scikit-learn/issues/21755 */display: inline-block !important;position: relative;}#sk-container-id-3 div.sk-text-repr-fallback {display: none;}</style><div id=\"sk-container-id-3\" class=\"sk-top-container\"><div class=\"sk-text-repr-fallback\"><pre>SGDRegressor(eta0=0.001)</pre><b>In a Jupyter environment, please rerun this cell to show the HTML representation or trust the notebook. <br />On GitHub, the HTML representation is unable to render, please try loading this page with nbviewer.org.</b></div><div class=\"sk-container\" hidden><div class=\"sk-item\"><div class=\"sk-estimator sk-toggleable\"><input class=\"sk-toggleable__control sk-hidden--visually\" id=\"sk-estimator-id-3\" type=\"checkbox\" checked><label for=\"sk-estimator-id-3\" class=\"sk-toggleable__label sk-toggleable__label-arrow\">SGDRegressor</label><div class=\"sk-toggleable__content\"><pre>SGDRegressor(eta0=0.001)</pre></div></div></div></div></div>"
      ],
      "text/plain": [
       "SGDRegressor(eta0=0.001)"
      ]
     },
     "execution_count": 30,
     "metadata": {},
     "output_type": "execute_result"
    }
   ],
   "source": [
    "model.set_params(max_iter=1000, eta0=0.001)\n",
    "model.fit(X, y)"
   ]
  },
  {
   "cell_type": "markdown",
   "id": "21be4835-c1dd-4b8f-8d64-4e799a7036aa",
   "metadata": {},
   "source": [
    "9- Qu'est-ce que vous remarquez ?"
   ]
  },
  {
   "cell_type": "code",
   "execution_count": 32,
   "id": "8b9f62e4-68e4-4939-b3cf-3e6157eeb983",
   "metadata": {},
   "outputs": [
    {
     "name": "stdout",
     "output_type": "stream",
     "text": [
      "Coeff R2 = 0.9996770014599116\n"
     ]
    },
    {
     "data": {
      "text/plain": [
       "[<matplotlib.lines.Line2D at 0x1f6881eb650>]"
      ]
     },
     "execution_count": 32,
     "metadata": {},
     "output_type": "execute_result"
    },
    {
     "data": {
      "image/png": "[encoded data removed]",
      "text/plain": [
       "<Figure size 640x480 with 1 Axes>"
      ]
     },
     "metadata": {},
     "output_type": "display_data"
    }
   ],
   "source": [
    "print(\"Coeff R2 =\",model.score(X, y))\n",
    "plt.scatter(X, y)\n",
    "plt.plot(X,model.predict(X), c='red')"
   ]
  },
  {
   "cell_type": "markdown",
   "id": "78f56a51-5697-4693-9f88-d3734263521e",
   "metadata": {},
   "source": [
    "Nous avons entrainé notre premier modele de ML et il fonctionne vraiment bien avec le coefficient (99,96%)"
   ]
  }
 ],
 "metadata": {
  "kernelspec": {
   "display_name": "Python 3 (ipykernel)",
   "language": "python",
   "name": "python3"
  },
  "language_info": {
   "codemirror_mode": {
    "name": "ipython",
    "version": 3
   },
   "file_extension": ".py",
   "mimetype": "text/x-python",
   "name": "python",
   "nbconvert_exporter": "python",
   "pygments_lexer": "ipython3",
   "version": "3.11.7"
  }
 },
 "nbformat": 4,
 "nbformat_minor": 5
}
